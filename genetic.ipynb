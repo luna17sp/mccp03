{
 "cells": [
  {
   "cell_type": "markdown",
   "metadata": {
    "id": "z7nInL55vTxi"
   },
   "source": [
    "# Introduction\n",
    "Genetic algorithms work by iterating over generations of populations and evaluation how well these populations solve a problem. At the end of a generation, the best individuals are selected to produce the next generation.\n",
    "\n",
    "The code presented in this blog has been adapted from:\n",
    "\n",
    "\n",
    "**Zaccone G. (2019). Natural Computing with Python: Learn to implement genetic and evolutionary algorithms for problem solving in a pythonic way. BPB Publications.**\n",
    "\n"
   ]
  },
  {
   "cell_type": "markdown",
   "metadata": {
    "id": "rJxFpNyT3kMx"
   },
   "source": [
    "# Imports\n",
    "First we import all necessary modules."
   ]
  },
  {
   "cell_type": "code",
   "execution_count": 1,
   "metadata": {
    "id": "lNADfQ4m1_CT"
   },
   "outputs": [],
   "source": [
    "import numpy as np, random, operator, pandas as pd, matplotlib.pyplot as plt"
   ]
  },
  {
   "cell_type": "markdown",
   "metadata": {
    "id": "ViXnTe3z4FR5"
   },
   "source": [
    "# Data Representation\n",
    "Because we are going to work with the simplest form of the TSP, we need a way to represent the data:"
   ]
  },
  {
   "cell_type": "code",
   "execution_count": 2,
   "metadata": {
    "cellView": "code",
    "id": "ROLT-ZpA1CLC"
   },
   "outputs": [],
   "source": [
    "from math import sin, cos, sqrt, atan2, radians\n",
    "\n",
    "\n",
    "def distance2points(lat1, lon1, lat2, lon2):\n",
    "    # Approximate radius of earth in km\n",
    "    R = 6373.0\n",
    "\n",
    "    lat1 = radians(lat1)\n",
    "    lon1 = radians(lon1)\n",
    "    lat2 = radians(lat2)\n",
    "    lon2 = radians(lon2)\n",
    "\n",
    "    dlon = lon2 - lon1\n",
    "    dlat = lat2 - lat1\n",
    "\n",
    "    a = sin(dlat / 2)**2 + cos(lat1) * cos(lat2) * sin(dlon / 2)**2\n",
    "    c = 2 * atan2(sqrt(a), sqrt(1 - a))\n",
    "\n",
    "    distance = R * c\n",
    "    \n",
    "    return distance\n",
    "\n",
    "\n",
    "class City:\n",
    "    def __init__(self,name, x, y):\n",
    "        self.name = name\n",
    "        self.x = x\n",
    "        self.y = y\n",
    "\n",
    "    def distance(self, city):\n",
    "        return distance2points(self.x, self.y, city.x, city.y)\n",
    "\n",
    "    def __repr__(self):\n",
    "        return \"(\" + str(self.name)+ \")\"\n",
    "\n"
   ]
  },
  {
   "cell_type": "markdown",
   "metadata": {
    "id": "gNEDY-zc4iMN"
   },
   "source": [
    "# How the algorithm works?"
   ]
  },
  {
   "cell_type": "markdown",
   "metadata": {
    "id": "hYM1BG7r5guj"
   },
   "source": [
    "## The concept of individual\n",
    "An individual can be seen as a single instance of the problem, for this case it's easy to see that the individual is the sequence of \"cities\" and the order that they are visited."
   ]
  },
  {
   "cell_type": "markdown",
   "metadata": {
    "id": "x1s3gUe54ufz"
   },
   "source": [
    "## Fitness\n",
    "Genetic algorithms mimic natural structures using the idea of \"Survival of the fittest\", so it's important to define a common fitness function for all individuals. For this case, the fitness of an individual is the sum of the distance for each pair of consecutive cities, including the sum of the last city in the sequence and the first (because TSP forms a loop).\n",
    ">$Fitness=[\\sum_{i=1}^{N-1} Distance(City_{i},City_{i+1})]+Distance(City_{N},City_{1})$\n",
    "\n",
    "This \"Distance\" function is just the euclidian distance between each city."
   ]
  },
  {
   "cell_type": "code",
   "execution_count": 3,
   "metadata": {
    "id": "zQegs4FO5dki"
   },
   "outputs": [],
   "source": [
    "#Create a fitness function\n",
    "\n",
    "class Fitness:\n",
    "    def __init__(self, route):\n",
    "        self.route = route\n",
    "        self.distance = 0\n",
    "        self.fitness= 0.0\n",
    "\n",
    "    def routeDistance(self):\n",
    "        if self.distance ==0:\n",
    "            pathDistance = 0\n",
    "            for i in range(0, len(self.route)):\n",
    "                fromCity = self.route[i]\n",
    "                toCity = None\n",
    "                if i + 1 < len(self.route):\n",
    "                    toCity = self.route[i + 1]\n",
    "                else:\n",
    "                    toCity = self.route[0]\n",
    "                pathDistance += fromCity.distance(toCity)\n",
    "            self.distance = pathDistance\n",
    "        return self.distance\n",
    "\n",
    "    def routeFitness(self):\n",
    "        if self.fitness == 0:\n",
    "            self.fitness = 1 / float(self.routeDistance())\n",
    "        return self.fitness"
   ]
  },
  {
   "cell_type": "markdown",
   "metadata": {
    "id": "wyC-WOKx8VxV"
   },
   "source": [
    "## Mutation and Breeding\n",
    "The algorithm creates the next generations using two methods, either mutating single individuals based on a probability, or \"mating\" two individual to create a new one. Here we define all necesarry functions to perform the algorithm."
   ]
  },
  {
   "cell_type": "code",
   "execution_count": 4,
   "metadata": {
    "id": "FuwftVHw81yz"
   },
   "outputs": [],
   "source": [
    "#Create our initial population\n",
    "#Route generator\n",
    "#This method randomizes the order of the cities, this mean that this method creates a random individual.\n",
    "def createRoute(cityList):\n",
    "    route = random.sample(cityList, len(cityList))\n",
    "    return route\n",
    "\n",
    "\n",
    "#Create first \"population\" (list of routes)\n",
    "#This method created a random population of the specified size.\n",
    "\n",
    "def initialPopulation(popSize, cityList):\n",
    "    population = []\n",
    "\n",
    "    for i in range(0, popSize):\n",
    "        population.append(createRoute(cityList))\n",
    "    return population\n",
    "\n",
    "\n",
    "#Create the genetic algorithm\n",
    "#Rank individuals\n",
    "#This function takes a population and orders it in descending order using the fitness of each individual\n",
    "def rankRoutes(population):\n",
    "    fitnessResults = {}\n",
    "    for i in range(0,len(population)):\n",
    "        fitnessResults[i] = Fitness(population[i]).routeFitness()\n",
    "    sorted_results=sorted(fitnessResults.items(), key = operator.itemgetter(1), reverse = True)\n",
    "    return sorted_results\n",
    "\n",
    "#Create a selection function that will be used to make the list of parent routes\n",
    "def selection(popRanked, eliteSize):\n",
    "    selectionResults = []\n",
    "    df = pd.DataFrame(np.array(popRanked), columns=[\"Index\",\"Fitness\"])\n",
    "    df['cum_sum'] = df.Fitness.cumsum()\n",
    "    df['cum_perc'] = 100*df.cum_sum/df.Fitness.sum()\n",
    "\n",
    "    for i in range(0, eliteSize):\n",
    "        selectionResults.append(popRanked[i][0])\n",
    "    for i in range(0, len(popRanked) - eliteSize):\n",
    "        pick = 100*random.random()\n",
    "        for i in range(0, len(popRanked)):\n",
    "            if pick <= df.iat[i,3]:\n",
    "                selectionResults.append(popRanked[i][0])\n",
    "                break\n",
    "    return selectionResults\n",
    "\n",
    "#Create mating pool\n",
    "def matingPool(population, selectionResults):\n",
    "    matingpool = []\n",
    "    for i in range(0, len(selectionResults)):\n",
    "        index = selectionResults[i]\n",
    "        matingpool.append(population[index])\n",
    "    return matingpool\n",
    "\n",
    "#Create a crossover function for two parents to create one child\n",
    "def breed(parent1, parent2):\n",
    "    child = []\n",
    "    childP1 = []\n",
    "    childP2 = []\n",
    "\n",
    "    geneA = int(random.random() * len(parent1))\n",
    "    geneB = int(random.random() * len(parent1))\n",
    "\n",
    "    startGene = min(geneA, geneB)\n",
    "    endGene = max(geneA, geneB)\n",
    "\n",
    "    for i in range(startGene, endGene):\n",
    "        childP1.append(parent1[i])\n",
    "\n",
    "\n",
    "    childP2 = [item for item in parent2 if item not in childP1]\n",
    "    # print(startGene, endGene)\n",
    "\n",
    "    # print(parent1)\n",
    "    # print(parent2)\n",
    "\n",
    "    # print(childP1)\n",
    "    # print(childP2)\n",
    "    child = childP1 + childP2\n",
    "\n",
    "    # print(child)\n",
    "    return child\n",
    "\n",
    "#Create function to run crossover over full mating pool\n",
    "\n",
    "def breedPopulation(matingpool, eliteSize):\n",
    "    children = []\n",
    "    length = len(matingpool) - eliteSize\n",
    "    pool = random.sample(matingpool, len(matingpool))\n",
    "\n",
    "    for i in range(0,eliteSize):\n",
    "        children.append(matingpool[i])\n",
    "\n",
    "    for i in range(0, length):\n",
    "        child = breed(pool[i], pool[len(matingpool)-i-1])\n",
    "        children.append(child)\n",
    "    return children\n",
    "\n",
    "\n",
    "\n",
    "\n",
    "#Create function to mutate a single route\n",
    "def mutate(individual, mutationRate):\n",
    "    for swapped in range(len(individual)):\n",
    "        if(random.random() < mutationRate):\n",
    "            swapWith = int(random.random() * len(individual))\n",
    "\n",
    "            city1 = individual[swapped]\n",
    "            city2 = individual[swapWith]\n",
    "\n",
    "            individual[swapped] = city2\n",
    "            individual[swapWith] = city1\n",
    "    return individual\n",
    "\n",
    "\n",
    "\n",
    "#Create function to run mutation over entire population\n",
    "\n",
    "def mutatePopulation(population, mutationRate):\n",
    "    mutatedPop = []\n",
    "\n",
    "    for ind in range(0, len(population)):\n",
    "        mutatedInd = mutate(population[ind], mutationRate)\n",
    "        mutatedPop.append(mutatedInd)\n",
    "    return mutatedPop\n",
    "\n",
    "\n",
    "\n",
    "#Put all steps together to create the next generation\n",
    "\n",
    "def nextGeneration(currentGen, eliteSize, mutationRate):\n",
    "    popRanked = rankRoutes(currentGen)\n",
    "    selectionResults = selection(popRanked, eliteSize)\n",
    "    matingpool = matingPool(currentGen, selectionResults)\n",
    "    children = breedPopulation(matingpool, eliteSize)\n",
    "    nextGeneration = mutatePopulation(children, mutationRate)\n",
    "    return nextGeneration"
   ]
  },
  {
   "cell_type": "markdown",
   "metadata": {
    "id": "8GdneBpn9QP6"
   },
   "source": [
    "## The genetic algorithm\n",
    "With all these function defined, all that is left is to write the definition of the genetic algorithm."
   ]
  },
  {
   "cell_type": "code",
   "execution_count": 5,
   "metadata": {
    "id": "qbYbvW739aE7"
   },
   "outputs": [],
   "source": [
    "#Final step: create the genetic algorithm\n",
    "def geneticAlgorithm(population, popSize, eliteSize, mutationRate, generations):\n",
    "    pop = initialPopulation(popSize, population)\n",
    "    progress = [1 / rankRoutes(pop)[0][1]]\n",
    "    print(\"Initial distance: \" + str(progress[0]))\n",
    "\n",
    "    for i in range(1, generations+1):\n",
    "\n",
    "        pop = nextGeneration(pop, eliteSize, mutationRate)\n",
    "        progress.append(1 / rankRoutes(pop)[0][1])\n",
    "        if i%50==0:\n",
    "          print('Generation '+str(i),\"Distance: \",progress[i])\n",
    "\n",
    "\n",
    "    bestRouteIndex = rankRoutes(pop)[0][0]\n",
    "    bestRoute = pop[bestRouteIndex]\n",
    "\n",
    "    plt.plot(progress)\n",
    "    plt.ylabel('Distance')\n",
    "    plt.xlabel('Generation')\n",
    "    plt.title('Best Fitness vs Generation')\n",
    "    plt.tight_layout()\n",
    "    plt.show()\n",
    "\n",
    "    return bestRoute"
   ]
  },
  {
   "cell_type": "markdown",
   "metadata": {
    "id": "Zsu9Ln579pk2"
   },
   "source": [
    "## Testing\n",
    "Know we create a list of cities and run the algorithm, this should return the best route found in the last generation."
   ]
  },
  {
   "cell_type": "code",
   "execution_count": 6,
   "metadata": {
    "colab": {
     "base_uri": "https://localhost:8080/",
     "height": 1000
    },
    "id": "Qh7Hvfqb97MV",
    "outputId": "36eacb79-a71e-41c4-f8cf-dda0058515a6"
   },
   "outputs": [
    {
     "name": "stdout",
     "output_type": "stream",
     "text": [
      "Initial distance: 2470.154343459864\n",
      "Generation 50 Distance:  1071.5887700348858\n",
      "Generation 100 Distance:  999.0869587622233\n",
      "Generation 150 Distance:  847.6338869291245\n",
      "Generation 200 Distance:  784.5424411990263\n",
      "Generation 250 Distance:  784.5864172856342\n",
      "Generation 300 Distance:  703.6807334335581\n",
      "Generation 350 Distance:  714.8804953931838\n",
      "Generation 400 Distance:  721.0619061289096\n",
      "Generation 450 Distance:  677.7892757400876\n",
      "Generation 500 Distance:  655.994199444267\n",
      "Generation 550 Distance:  646.8578986150337\n",
      "Generation 600 Distance:  640.3219840844009\n",
      "Generation 650 Distance:  638.368196589233\n",
      "Generation 700 Distance:  637.290504038251\n",
      "Generation 750 Distance:  635.9802656660438\n",
      "Generation 800 Distance:  635.5519760616733\n"
     ]
    },
    {
     "data": {
      "image/png": "[encoded data removed]",
      "text/plain": [
       "<Figure size 432x288 with 1 Axes>"
      ]
     },
     "metadata": {},
     "output_type": "display_data"
    },
    {
     "data": {
      "image/png": "[encoded data removed]",
      "text/plain": [
       "<Figure size 432x288 with 1 Axes>"
      ]
     },
     "metadata": {},
     "output_type": "display_data"
    }
   ],
   "source": [
    "#Running the genetic algorithm\n",
    "#Create list of cities\n",
    "\n",
    "cityList = []\n",
    "\n",
    "# for i in range(0,25):\n",
    "#     cityList.append(City(name = i, x=int(random.random() * 200), y=int(random.random() * 200)))\n",
    "\n",
    "# Lectura del archivo\n",
    "file = './EESS_AQP_REDES.xlsx'\n",
    "df = pd.read_excel(file, sheet_name='TB_EESS')\n",
    "\n",
    "subset = df[df['red']==\"CAMANA CARAVELLI\"]\n",
    "\n",
    "for i in range(0,len(subset.index)):\n",
    "  cityList.append(City(name = i, x=subset['longitud'].values[i], y=subset['latitud'].values[i]))\n",
    "\n",
    "best_route=geneticAlgorithm(population=cityList, popSize=150, eliteSize=20, mutationRate=0.01, generations=800)\n",
    "x=[]\n",
    "y=[]\n",
    "for i in best_route:\n",
    "  x.append(i.x)\n",
    "  y.append(i.y)\n",
    "x.append(best_route[0].x)\n",
    "y.append(best_route[0].y)\n",
    "plt.plot(x, y, '--o')\n",
    "plt.xlabel('X')\n",
    "plt.ylabel('Y')\n",
    "ax=plt.gca()\n",
    "plt.title('Final Route Layout')\n",
    "bbox_props = dict(boxstyle=\"circle,pad=0.3\", fc='C0', ec=\"black\", lw=0.5)\n",
    "for i in range(1,len(cityList)+1):\n",
    "  ax.text(cityList[i-1].x, cityList[i-1].y, str(i), ha=\"center\", va=\"center\",\n",
    "            size=8,\n",
    "            bbox=bbox_props)\n",
    "plt.tight_layout()\n",
    "plt.show()"
   ]
  },
  {
   "cell_type": "code",
   "execution_count": null,
   "metadata": {},
   "outputs": [],
   "source": []
  },
  {
   "cell_type": "code",
   "execution_count": 7,
   "metadata": {
    "colab": {
     "base_uri": "https://localhost:8080/"
    },
    "id": "Inf3BQDk02m8",
    "outputId": "89d333c6-8e1c-4f1a-ec00-45907f36eff8"
   },
   "outputs": [
    {
     "data": {
      "text/plain": [
       "[(3),\n",
       " (39),\n",
       " (14),\n",
       " (16),\n",
       " (18),\n",
       " (17),\n",
       " (38),\n",
       " (22),\n",
       " (36),\n",
       " (35),\n",
       " (21),\n",
       " (20),\n",
       " (7),\n",
       " (33),\n",
       " (34),\n",
       " (28),\n",
       " (26),\n",
       " (6),\n",
       " (29),\n",
       " (8),\n",
       " (32),\n",
       " (30),\n",
       " (31),\n",
       " (25),\n",
       " (24),\n",
       " (23),\n",
       " (27),\n",
       " (0),\n",
       " (5),\n",
       " (19),\n",
       " (4),\n",
       " (9),\n",
       " (10),\n",
       " (12),\n",
       " (1),\n",
       " (15),\n",
       " (13),\n",
       " (11),\n",
       " (2),\n",
       " (37)]"
      ]
     },
     "execution_count": 7,
     "metadata": {},
     "output_type": "execute_result"
    }
   ],
   "source": [
    "best_route"
   ]
  },
  {
   "cell_type": "code",
   "execution_count": null,
   "metadata": {},
   "outputs": [],
   "source": []
  },
  {
   "cell_type": "code",
   "execution_count": null,
   "metadata": {},
   "outputs": [],
   "source": []
  }
 ],
 "metadata": {
  "colab": {
   "provenance": []
  },
  "kernelspec": {
   "display_name": "Python 3",
   "language": "python",
   "name": "python3"
  },
  "language_info": {
   "codemirror_mode": {
    "name": "ipython",
    "version": 3
   },
   "file_extension": ".py",
   "mimetype": "text/x-python",
   "name": "python",
   "nbconvert_exporter": "python",
   "pygments_lexer": "ipython3",
   "version": "3.6.5"
  }
 },
 "nbformat": 4,
 "nbformat_minor": 1
}
