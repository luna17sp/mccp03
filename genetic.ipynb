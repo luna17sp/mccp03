{
 "cells": [
  {
   "cell_type": "markdown",
   "metadata": {
    "id": "rJxFpNyT3kMx"
   },
   "source": [
    "# Imports"
   ]
  },
  {
   "cell_type": "code",
   "execution_count": 1,
   "metadata": {
    "id": "lNADfQ4m1_CT"
   },
   "outputs": [],
   "source": [
    "import numpy as np, random, operator, pandas as pd, matplotlib.pyplot as plt"
   ]
  },
  {
   "cell_type": "markdown",
   "metadata": {
    "id": "ViXnTe3z4FR5"
   },
   "source": [
    "# Representación de datos\n",
    "Debido a que vamos a trabajar con la forma más simple del TSP, necesitamos una forma de representar los datos::"
   ]
  },
  {
   "cell_type": "code",
   "execution_count": 2,
   "metadata": {
    "cellView": "code",
    "id": "ROLT-ZpA1CLC"
   },
   "outputs": [],
   "source": [
    "from math import sin, cos, sqrt, atan2, radians\n",
    "\n",
    "def distance2points(lat1, lon1, lat2, lon2):\n",
    "    # Radio aproximado de la tierra en km\n",
    "    R = 6373.0\n",
    "\n",
    "    lat1 = radians(lat1)\n",
    "    lon1 = radians(lon1)\n",
    "    lat2 = radians(lat2)\n",
    "    lon2 = radians(lon2)\n",
    "\n",
    "    dlon = lon2 - lon1\n",
    "    dlat = lat2 - lat1\n",
    "\n",
    "    a = sin(dlat / 2)**2 + cos(lat1) * cos(lat2) * sin(dlon / 2)**2\n",
    "    c = 2 * atan2(sqrt(a), sqrt(1 - a))\n",
    "\n",
    "    distance = R * c\n",
    "    \n",
    "    return distance\n",
    "\n",
    "\n",
    "class City:\n",
    "    def __init__(self,name, x, y):\n",
    "        self.name = name\n",
    "        self.x = x\n",
    "        self.y = y\n",
    "\n",
    "    def distance(self, city):\n",
    "        return distance2points(self.x, self.y, city.x, city.y)\n",
    "\n",
    "    def __repr__(self):\n",
    "        return \"(\" + str(self.name)+ \")\"\n",
    "\n"
   ]
  },
  {
   "cell_type": "markdown",
   "metadata": {
    "id": "gNEDY-zc4iMN"
   },
   "source": [
    "# ¿Cómo funciona el algoritmo?"
   ]
  },
  {
   "cell_type": "markdown",
   "metadata": {
    "id": "hYM1BG7r5guj"
   },
   "source": [
    "## El concepto de individuo\n",
    "\n",
    "Un individuo puede ser visto como una sola instancia del problema, para este caso es fácil ver que el individuo es la secuencia de \"ciudades\" y el orden en que son visitadas."
   ]
  },
  {
   "cell_type": "markdown",
   "metadata": {
    "id": "x1s3gUe54ufz"
   },
   "source": [
    "## Fitness (Aptitud física)\n",
    "Los algoritmos genéticos imitan las estructuras naturales utilizando la idea de \"supervivencia del más apto\", por lo que es importante definir una función de aptitud común para todos los individuos. Para este caso, la aptitud de un individuo es la suma de la distancia para cada par de ciudades consecutivas, incluida la suma de la última ciudad de la secuencia y la primera (porque TSP forma un bucle).\n",
    "\n",
    ">$Fitness=[\\sum_{i=1}^{N-1} Distance(City_{i},City_{i+1})]+Distance(City_{N},City_{1})$\n",
    "\n",
    "Esta función de \"Distancia\" es solo la distancia euclidiana entre cada ciudad."
   ]
  },
  {
   "cell_type": "code",
   "execution_count": 3,
   "metadata": {
    "id": "zQegs4FO5dki"
   },
   "outputs": [],
   "source": [
    "#Create a fitness function\n",
    "\n",
    "class Fitness:\n",
    "    def __init__(self, route):\n",
    "        self.route = route\n",
    "        self.distance = 0\n",
    "        self.fitness= 0.0\n",
    "\n",
    "    def routeDistance(self):\n",
    "        if self.distance ==0:\n",
    "            pathDistance = 0\n",
    "            for i in range(0, len(self.route)):\n",
    "                fromCity = self.route[i]\n",
    "                toCity = None\n",
    "                if i + 1 < len(self.route):\n",
    "                    toCity = self.route[i + 1]\n",
    "                else:\n",
    "                    toCity = self.route[0]\n",
    "                pathDistance += fromCity.distance(toCity)\n",
    "            self.distance = pathDistance\n",
    "        return self.distance\n",
    "\n",
    "    def routeFitness(self):\n",
    "        if self.fitness == 0:\n",
    "            self.fitness = 1 / float(self.routeDistance())\n",
    "        return self.fitness"
   ]
  },
  {
   "cell_type": "markdown",
   "metadata": {
    "id": "wyC-WOKx8VxV"
   },
   "source": [
    "## Mutación y reproducción\n",
    "El algoritmo crea las próximas generaciones utilizando dos métodos, ya sea mutando individuos individuales en función de una probabilidad, o \"apareando\" dos individuos para crear uno nuevo. Aquí definimos todas las funciones necesarias para realizar el algoritmo."
   ]
  },
  {
   "cell_type": "code",
   "execution_count": 4,
   "metadata": {
    "id": "FuwftVHw81yz"
   },
   "outputs": [],
   "source": [
    "#Create our initial population\n",
    "#Route generator\n",
    "#Este método aleatoriza el orden de las ciudades, lo que significa que este método crea un individuo al azar.\n",
    "\n",
    "def createRoute(cityList):\n",
    "    route = random.sample(cityList, len(cityList))\n",
    "    return route\n",
    "\n",
    "\n",
    "#Create first \"population\" (list of routes)\n",
    "#Este método creó una población aleatoria del tamaño especificado.\n",
    "\n",
    "def initialPopulation(popSize, cityList):\n",
    "    population = []\n",
    "\n",
    "    for i in range(0, popSize):\n",
    "        population.append(createRoute(cityList))\n",
    "    return population\n",
    "\n",
    "\n",
    "#Create the genetic algorithm\n",
    "#Rank individuals\n",
    "#Esta función toma una población y la ordena en orden descendente usando la aptitud (fitness) de cada individuo\n",
    "\n",
    "def rankRoutes(population):\n",
    "    fitnessResults = {}\n",
    "    for i in range(0,len(population)):\n",
    "        fitnessResults[i] = Fitness(population[i]).routeFitness()\n",
    "    sorted_results=sorted(fitnessResults.items(), key = operator.itemgetter(1), reverse = True)\n",
    "    return sorted_results\n",
    "\n",
    "#Cree una función de selección que se usará para hacer la lista de rutas principales\n",
    "def selection(popRanked, eliteSize):\n",
    "    selectionResults = []\n",
    "    df = pd.DataFrame(np.array(popRanked), columns=[\"Index\",\"Fitness\"])\n",
    "    df['cum_sum'] = df.Fitness.cumsum()\n",
    "    df['cum_perc'] = 100*df.cum_sum/df.Fitness.sum()\n",
    "\n",
    "    for i in range(0, eliteSize):\n",
    "        selectionResults.append(popRanked[i][0])\n",
    "    for i in range(0, len(popRanked) - eliteSize):\n",
    "        pick = 100*random.random()\n",
    "        for i in range(0, len(popRanked)):\n",
    "            if pick <= df.iat[i,3]:\n",
    "                selectionResults.append(popRanked[i][0])\n",
    "                break\n",
    "    return selectionResults\n",
    "\n",
    "#Create mating pool\n",
    "def matingPool(population, selectionResults):\n",
    "    matingpool = []\n",
    "    for i in range(0, len(selectionResults)):\n",
    "        index = selectionResults[i]\n",
    "        matingpool.append(population[index])\n",
    "    return matingpool\n",
    "\n",
    "#Crear una función de cruce para que dos padres creen un hijo\n",
    "def breed(parent1, parent2):\n",
    "    child = []\n",
    "    childP1 = []\n",
    "    childP2 = []\n",
    "\n",
    "    geneA = int(random.random() * len(parent1))\n",
    "    geneB = int(random.random() * len(parent1))\n",
    "\n",
    "    startGene = min(geneA, geneB)\n",
    "    endGene = max(geneA, geneB)\n",
    "\n",
    "    for i in range(startGene, endGene):\n",
    "        childP1.append(parent1[i])\n",
    "\n",
    "\n",
    "    childP2 = [item for item in parent2 if item not in childP1]\n",
    "    # print(startGene, endGene)\n",
    "\n",
    "    # print(parent1)\n",
    "    # print(parent2)\n",
    "\n",
    "    # print(childP1)\n",
    "    # print(childP2)\n",
    "    child = childP1 + childP2\n",
    "\n",
    "    # print(child)\n",
    "    return child\n",
    "\n",
    "##Crear función para ejecutar el cruce sobre el grupo\n",
    "\n",
    "def breedPopulation(matingpool, eliteSize):\n",
    "    children = []\n",
    "    length = len(matingpool) - eliteSize\n",
    "    pool = random.sample(matingpool, len(matingpool))\n",
    "\n",
    "    for i in range(0,eliteSize):\n",
    "        children.append(matingpool[i])\n",
    "\n",
    "    for i in range(0, length):\n",
    "        child = breed(pool[i], pool[len(matingpool)-i-1])\n",
    "        children.append(child)\n",
    "    return children\n",
    "\n",
    "\n",
    "#Crear función para mutar una sola ruta\n",
    "def mutate(individual, mutationRate):\n",
    "    for swapped in range(len(individual)):\n",
    "        if(random.random() < mutationRate):\n",
    "            swapWith = int(random.random() * len(individual))\n",
    "\n",
    "            city1 = individual[swapped]\n",
    "            city2 = individual[swapWith]\n",
    "\n",
    "            individual[swapped] = city2\n",
    "            individual[swapWith] = city1\n",
    "    return individual\n",
    "\n",
    "\n",
    "#Crear función para ejecutar la mutación en toda la población\n",
    "def mutatePopulation(population, mutationRate):\n",
    "    mutatedPop = []\n",
    "\n",
    "    for ind in range(0, len(population)):\n",
    "        mutatedInd = mutate(population[ind], mutationRate)\n",
    "        mutatedPop.append(mutatedInd)\n",
    "    return mutatedPop\n",
    "\n",
    "#Pon todos los pasos juntos para crear la próxima generación\n",
    "def nextGeneration(currentGen, eliteSize, mutationRate):\n",
    "    popRanked = rankRoutes(currentGen)\n",
    "    selectionResults = selection(popRanked, eliteSize)\n",
    "    matingpool = matingPool(currentGen, selectionResults)\n",
    "    children = breedPopulation(matingpool, eliteSize)\n",
    "    nextGeneration = mutatePopulation(children, mutationRate)\n",
    "    return nextGeneration"
   ]
  },
  {
   "cell_type": "markdown",
   "metadata": {
    "id": "8GdneBpn9QP6"
   },
   "source": [
    "## El algoritmo genético\n",
    "Con todas estas funciones definidas, solo queda escribir la definición del algoritmo genético."
   ]
  },
  {
   "cell_type": "code",
   "execution_count": 5,
   "metadata": {
    "id": "qbYbvW739aE7"
   },
   "outputs": [],
   "source": [
    "#Paso final: crear el algoritmo genético\n",
    "def geneticAlgorithm(population, popSize, eliteSize, mutationRate, generations):\n",
    "    pop = initialPopulation(popSize, population)\n",
    "    progress = [1 / rankRoutes(pop)[0][1]]\n",
    "    print(\"distancia Inicial: \" + str(progress[0]))\n",
    "\n",
    "    for i in range(1, generations+1):\n",
    "\n",
    "        pop = nextGeneration(pop, eliteSize, mutationRate)\n",
    "        progress.append(1 / rankRoutes(pop)[0][1])\n",
    "        if i%50==0:\n",
    "          print('Generacion '+str(i),\"Distancia: \",progress[i])\n",
    "\n",
    "\n",
    "    bestRouteIndex = rankRoutes(pop)[0][0]\n",
    "    bestRoute = pop[bestRouteIndex]\n",
    "\n",
    "    plt.plot(progress)\n",
    "    plt.ylabel('Distancia')\n",
    "    plt.xlabel('Generacion')\n",
    "    plt.title('Mejor Fitness vs Generación')\n",
    "    plt.tight_layout()\n",
    "    plt.show()\n",
    "\n",
    "    return bestRoute"
   ]
  },
  {
   "cell_type": "markdown",
   "metadata": {
    "id": "Zsu9Ln579pk2"
   },
   "source": [
    "## Pruebas\n",
    "Sepa que creamos una lista de ciudades y ejecutamos el algoritmo, esto debería devolver la mejor ruta encontrada en la última generación."
   ]
  },
  {
   "cell_type": "code",
   "execution_count": 6,
   "metadata": {
    "colab": {
     "base_uri": "https://localhost:8080/",
     "height": 1000
    },
    "id": "Qh7Hvfqb97MV",
    "outputId": "36eacb79-a71e-41c4-f8cf-dda0058515a6"
   },
   "outputs": [
    {
     "name": "stdout",
     "output_type": "stream",
     "text": [
      "distancia Inicial: 2720.3247358220974\n",
      "Generacion 50 Distancia:  1242.7688675346035\n",
      "Generacion 100 Distancia:  936.8328902662463\n",
      "Generacion 150 Distancia:  857.4627179102523\n",
      "Generacion 200 Distancia:  732.8701745849911\n",
      "Generacion 250 Distancia:  714.1231373862632\n",
      "Generacion 300 Distancia:  712.6180215686513\n",
      "Generacion 350 Distancia:  678.0494390964343\n",
      "Generacion 400 Distancia:  672.2562453602762\n",
      "Generacion 450 Distancia:  677.2482157959669\n",
      "Generacion 500 Distancia:  689.4311914144446\n",
      "Generacion 550 Distancia:  678.0343264019826\n",
      "Generacion 600 Distancia:  692.4764165783106\n",
      "Generacion 650 Distancia:  657.7619499535907\n",
      "Generacion 700 Distancia:  637.0620845523736\n",
      "Generacion 750 Distancia:  642.4091523296418\n",
      "Generacion 800 Distancia:  647.1462061967328\n"
     ]
    },
    {
     "data": {
      "image/png": "[encoded data removed]",
      "text/plain": [
       "<Figure size 432x288 with 1 Axes>"
      ]
     },
     "metadata": {},
     "output_type": "display_data"
    },
    {
     "data": {
      "image/png": "[encoded data removed]",
      "text/plain": [
       "<Figure size 432x288 with 1 Axes>"
      ]
     },
     "metadata": {},
     "output_type": "display_data"
    }
   ],
   "source": [
    "#Running the genetic algorithm\n",
    "#lista de ciudades\n",
    "\n",
    "cityList = []\n",
    "\n",
    "# Lectura del archivo\n",
    "file = './EESS_AQP_REDES.xlsx'\n",
    "df = pd.read_excel(file, sheet_name='TB_EESS')\n",
    "\n",
    "subset = df[df['red']==\"CAMANA CARAVELLI\"]\n",
    "\n",
    "for i in range(0,len(subset.index)):\n",
    "  cityList.append(City(name = i, x=subset['longitud'].values[i], y=subset['latitud'].values[i]))\n",
    "\n",
    "best_route=geneticAlgorithm(population=cityList, popSize=150, eliteSize=20, mutationRate=0.01, generations=800)\n",
    "x=[]\n",
    "y=[]\n",
    "for i in best_route:\n",
    "  x.append(i.x)\n",
    "  y.append(i.y)\n",
    "x.append(best_route[0].x)\n",
    "y.append(best_route[0].y)\n",
    "plt.plot(x, y, '--o')\n",
    "plt.xlabel('X')\n",
    "plt.ylabel('Y')\n",
    "ax=plt.gca()\n",
    "plt.title('Diseño de ruta final')\n",
    "bbox_props = dict(boxstyle=\"circle,pad=0.3\", fc='C0', ec=\"black\", lw=0.5)\n",
    "for i in range(1,len(cityList)+1):\n",
    "  ax.text(cityList[i-1].x, cityList[i-1].y, str(i), ha=\"center\", va=\"center\",\n",
    "            size=8,\n",
    "            bbox=bbox_props)\n",
    "plt.tight_layout()\n",
    "plt.show()"
   ]
  },
  {
   "cell_type": "code",
   "execution_count": null,
   "metadata": {},
   "outputs": [],
   "source": []
  },
  {
   "cell_type": "code",
   "execution_count": 7,
   "metadata": {
    "colab": {
     "base_uri": "https://localhost:8080/"
    },
    "id": "Inf3BQDk02m8",
    "outputId": "89d333c6-8e1c-4f1a-ec00-45907f36eff8"
   },
   "outputs": [
    {
     "data": {
      "text/plain": [
       "[(3),\n",
       " (16),\n",
       " (10),\n",
       " (20),\n",
       " (19),\n",
       " (34),\n",
       " (33),\n",
       " (0),\n",
       " (5),\n",
       " (27),\n",
       " (23),\n",
       " (25),\n",
       " (24),\n",
       " (31),\n",
       " (32),\n",
       " (30),\n",
       " (8),\n",
       " (29),\n",
       " (6),\n",
       " (26),\n",
       " (28),\n",
       " (7),\n",
       " (22),\n",
       " (36),\n",
       " (38),\n",
       " (21),\n",
       " (35),\n",
       " (4),\n",
       " (12),\n",
       " (13),\n",
       " (39),\n",
       " (9),\n",
       " (2),\n",
       " (14),\n",
       " (18),\n",
       " (17),\n",
       " (37),\n",
       " (11),\n",
       " (1),\n",
       " (15)]"
      ]
     },
     "execution_count": 7,
     "metadata": {},
     "output_type": "execute_result"
    }
   ],
   "source": [
    "best_route"
   ]
  },
  {
   "cell_type": "code",
   "execution_count": null,
   "metadata": {},
   "outputs": [],
   "source": []
  }
 ],
 "metadata": {
  "colab": {
   "provenance": []
  },
  "kernelspec": {
   "display_name": "Python 3",
   "language": "python",
   "name": "python3"
  },
  "language_info": {
   "codemirror_mode": {
    "name": "ipython",
    "version": 3
   },
   "file_extension": ".py",
   "mimetype": "text/x-python",
   "name": "python",
   "nbconvert_exporter": "python",
   "pygments_lexer": "ipython3",
   "version": "3.6.5"
  }
 },
 "nbformat": 4,
 "nbformat_minor": 1
}
